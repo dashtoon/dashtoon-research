{
 "cells": [
  {
   "cell_type": "code",
   "execution_count": 1,
   "id": "f08041ce",
   "metadata": {},
   "outputs": [
    {
     "data": {
      "text/plain": [
       "<Logger detectron2 (DEBUG)>"
      ]
     },
     "execution_count": 1,
     "metadata": {},
     "output_type": "execute_result"
    }
   ],
   "source": [
    "# Copyright (c) Facebook, Inc. and its affiliates.\n",
    "import contextlib\n",
    "import io\n",
    "import logging\n",
    "import os\n",
    "from collections import defaultdict\n",
    "from dataclasses import dataclass\n",
    "from typing import Any, Dict, Iterable, List, Optional\n",
    "from fvcore.common.timer import Timer\n",
    "\n",
    "from detectron2.data import DatasetCatalog, MetadataCatalog\n",
    "from detectron2.structures import BoxMode\n",
    "from detectron2.utils.file_io import PathManager\n",
    "\n",
    "from densepose.data.utils import maybe_prepend_base_path\n",
    "from pathlib import Path\n",
    "from detectron2.utils.logger import setup_logger\n",
    "\n",
    "setup_logger()"
   ]
  },
  {
   "cell_type": "code",
   "execution_count": 2,
   "id": "f7251f96",
   "metadata": {},
   "outputs": [],
   "source": [
    "import sys\n",
    "sys.path.append('/mnt/data/repos/dashtoon-research/ClothesPreprocessor')"
   ]
  },
  {
   "cell_type": "code",
   "execution_count": 3,
   "id": "6fd4b253",
   "metadata": {},
   "outputs": [
    {
     "name": "stderr",
     "output_type": "stream",
     "text": [
      "/opt/miniconda/envs/d2/lib/python3.8/site-packages/tqdm/auto.py:21: TqdmWarning: IProgress not found. Please update jupyter and ipywidgets. See https://ipywidgets.readthedocs.io/en/stable/user_install.html\n",
      "  from .autonotebook import tqdm as notebook_tqdm\n"
     ]
    }
   ],
   "source": [
    "from src import data, layers, modelling"
   ]
  },
  {
   "cell_type": "code",
   "execution_count": 4,
   "id": "59adfa34",
   "metadata": {},
   "outputs": [],
   "source": [
    "dataset_dicts = DatasetCatalog.get(\"my_densepose_coco_2014_train_cse\")\n",
    "metadata = MetadataCatalog.get(\"my_densepose_coco_2014_train_cse\")"
   ]
  },
  {
   "cell_type": "code",
   "execution_count": 7,
   "id": "fa611be1",
   "metadata": {},
   "outputs": [
    {
     "data": {
      "text/plain": [
       "dict_keys(['file_name', 'sem_seg_file_name', 'height', 'width', 'image_id', 'dataset', 'annotations'])"
      ]
     },
     "execution_count": 7,
     "metadata": {},
     "output_type": "execute_result"
    }
   ],
   "source": [
    "dataset_dicts[0].keys()"
   ]
  },
  {
   "cell_type": "code",
   "execution_count": null,
   "id": "7799ff22",
   "metadata": {},
   "outputs": [],
   "source": []
  }
 ],
 "metadata": {
  "kernelspec": {
   "display_name": "Python 3 (ipykernel)",
   "language": "python",
   "name": "python3"
  },
  "language_info": {
   "codemirror_mode": {
    "name": "ipython",
    "version": 3
   },
   "file_extension": ".py",
   "mimetype": "text/x-python",
   "name": "python",
   "nbconvert_exporter": "python",
   "pygments_lexer": "ipython3",
   "version": "3.8.18"
  }
 },
 "nbformat": 4,
 "nbformat_minor": 5
}
