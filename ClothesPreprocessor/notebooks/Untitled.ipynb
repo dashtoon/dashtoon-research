{
 "cells": [
  {
   "cell_type": "code",
   "execution_count": 37,
   "id": "f08041ce",
   "metadata": {},
   "outputs": [
    {
     "data": {
      "text/plain": [
       "<Logger detectron2 (DEBUG)>"
      ]
     },
     "execution_count": 37,
     "metadata": {},
     "output_type": "execute_result"
    }
   ],
   "source": [
    "# Copyright (c) Facebook, Inc. and its affiliates.\n",
    "import contextlib\n",
    "import io\n",
    "import logging\n",
    "import os\n",
    "from collections import defaultdict\n",
    "from dataclasses import dataclass\n",
    "from typing import Any, Dict, Iterable, List, Optional\n",
    "from fvcore.common.timer import Timer\n",
    "\n",
    "from detectron2.data import DatasetCatalog, MetadataCatalog\n",
    "from detectron2.structures import BoxMode\n",
    "from detectron2.utils.file_io import PathManager\n",
    "\n",
    "from densepose.data.utils import maybe_prepend_base_path\n",
    "from pathlib import Path\n",
    "from detectron2.utils.logger import setup_logger\n",
    "\n",
    "setup_logger()"
   ]
  },
  {
   "cell_type": "code",
   "execution_count": 50,
   "id": "7f2f4aec-8d50-4c82-9037-b11ef7523364",
   "metadata": {},
   "outputs": [],
   "source": [
    "DENSEPOSE_MASK_KEY = \"dp_masks\"\n",
    "DENSEPOSE_IUV_KEYS_WITHOUT_MASK = [\"dp_x\", \"dp_y\", \"dp_I\", \"dp_U\", \"dp_V\"]\n",
    "DENSEPOSE_CSE_KEYS_WITHOUT_MASK = [\"dp_x\", \"dp_y\", \"dp_vertex\", \"ref_model\"]\n",
    "DENSEPOSE_ALL_POSSIBLE_KEYS = set(DENSEPOSE_IUV_KEYS_WITHOUT_MASK + DENSEPOSE_CSE_KEYS_WITHOUT_MASK + [DENSEPOSE_MASK_KEY])\n",
    "DENSEPOSE_METADATA_URL_PREFIX = \"https://dl.fbaipublicfiles.com/densepose/data/\"\n",
    "\n",
    "\n",
    "@dataclass\n",
    "class CocoDatasetInfo:\n",
    "    name: str\n",
    "    images_root: str\n",
    "    annotations_fpath: str\n",
    "\n",
    "\n",
    "DATASETS = [\n",
    "    CocoDatasetInfo(\n",
    "        name=\"densepose_coco_2014_train\",\n",
    "        images_root=\"coco/train2014\",\n",
    "        annotations_fpath=\"coco/annotations/densepose_train2014.json\",\n",
    "    ),\n",
    "    CocoDatasetInfo(\n",
    "        name=\"densepose_coco_2014_minival\",\n",
    "        images_root=\"coco/val2014\",\n",
    "        annotations_fpath=\"coco/annotations/densepose_minival2014.json\",\n",
    "    ),\n",
    "    CocoDatasetInfo(\n",
    "        name=\"densepose_coco_2014_minival_100\",\n",
    "        images_root=\"coco/val2014\",\n",
    "        annotations_fpath=\"coco/annotations/densepose_minival2014_100.json\",\n",
    "    ),\n",
    "    CocoDatasetInfo(\n",
    "        name=\"densepose_coco_2014_valminusminival\",\n",
    "        images_root=\"coco/val2014\",\n",
    "        annotations_fpath=\"coco/annotations/densepose_valminusminival2014.json\",\n",
    "    ),\n",
    "    CocoDatasetInfo(\n",
    "        name=\"densepose_coco_2014_train_cse\",\n",
    "        images_root=\"coco/train2014\",\n",
    "        annotations_fpath=\"coco_cse/densepose_train2014_cse.json\",\n",
    "    ),\n",
    "    CocoDatasetInfo(\n",
    "        name=\"densepose_coco_2014_minival_cse\",\n",
    "        images_root=\"coco/val2014\",\n",
    "        annotations_fpath=\"coco_cse/densepose_minival2014_cse.json\",\n",
    "    ),\n",
    "    CocoDatasetInfo(\n",
    "        name=\"densepose_coco_2014_minival_100_cse\",\n",
    "        images_root=\"coco/val2014\",\n",
    "        annotations_fpath=\"coco_cse/densepose_minival2014_100_cse.json\",\n",
    "    ),\n",
    "    CocoDatasetInfo(\n",
    "        name=\"densepose_coco_2014_valminusminival_cse\",\n",
    "        images_root=\"coco/val2014\",\n",
    "        annotations_fpath=\"coco_cse/densepose_valminusminival2014_cse.json\",\n",
    "    ),\n",
    "    CocoDatasetInfo(\n",
    "        name=\"densepose_chimps\",\n",
    "        images_root=\"densepose_chimps/images\",\n",
    "        annotations_fpath=\"densepose_chimps/densepose_chimps_densepose.json\",\n",
    "    ),\n",
    "    CocoDatasetInfo(\n",
    "        name=\"densepose_chimps_cse_train\",\n",
    "        images_root=\"densepose_chimps/images\",\n",
    "        annotations_fpath=\"densepose_chimps/densepose_chimps_cse_train.json\",\n",
    "    ),\n",
    "    CocoDatasetInfo(\n",
    "        name=\"densepose_chimps_cse_val\",\n",
    "        images_root=\"densepose_chimps/images\",\n",
    "        annotations_fpath=\"densepose_chimps/densepose_chimps_cse_val.json\",\n",
    "    ),\n",
    "    CocoDatasetInfo(\n",
    "        name=\"posetrack2017_train\",\n",
    "        images_root=\"posetrack2017/posetrack_data_2017\",\n",
    "        annotations_fpath=\"posetrack2017/densepose_posetrack_train2017.json\",\n",
    "    ),\n",
    "    CocoDatasetInfo(\n",
    "        name=\"posetrack2017_val\",\n",
    "        images_root=\"posetrack2017/posetrack_data_2017\",\n",
    "        annotations_fpath=\"posetrack2017/densepose_posetrack_val2017.json\",\n",
    "    ),\n",
    "    CocoDatasetInfo(\n",
    "        name=\"lvis_v05_train\",\n",
    "        images_root=\"coco/train2017\",\n",
    "        annotations_fpath=\"lvis/lvis_v0.5_plus_dp_train.json\",\n",
    "    ),\n",
    "    CocoDatasetInfo(\n",
    "        name=\"lvis_v05_val\",\n",
    "        images_root=\"coco/val2017\",\n",
    "        annotations_fpath=\"lvis/lvis_v0.5_plus_dp_val.json\",\n",
    "    ),\n",
    "]\n",
    "\n",
    "\n",
    "BASE_DATASETS = [\n",
    "    CocoDatasetInfo(\n",
    "        name=\"base_coco_2017_train\",\n",
    "        images_root=\"coco/train2017\",\n",
    "        annotations_fpath=\"coco/annotations/instances_train2017.json\",\n",
    "    ),\n",
    "    CocoDatasetInfo(\n",
    "        name=\"base_coco_2017_val\",\n",
    "        images_root=\"coco/val2017\",\n",
    "        annotations_fpath=\"coco/annotations/instances_val2017.json\",\n",
    "    ),\n",
    "    CocoDatasetInfo(\n",
    "        name=\"base_coco_2017_val_100\",\n",
    "        images_root=\"coco/val2017\",\n",
    "        annotations_fpath=\"coco/annotations/instances_val2017_100.json\",\n",
    "    ),\n",
    "]\n",
    "\n",
    "\n",
    "def get_metadata(base_path: Optional[str]) -> Dict[str, Any]:\n",
    "    \"\"\"\n",
    "    Returns metadata associated with COCO DensePose datasets\n",
    "\n",
    "    Args:\n",
    "    base_path: Optional[str]\n",
    "        Base path used to load metadata from\n",
    "\n",
    "    Returns:\n",
    "    Dict[str, Any]\n",
    "        Metadata in the form of a dictionary\n",
    "    \"\"\"\n",
    "    meta = {\n",
    "        \"densepose_transform_src\": maybe_prepend_base_path(base_path, \"UV_symmetry_transforms.mat\"),\n",
    "        \"densepose_smpl_subdiv\": maybe_prepend_base_path(base_path, \"SMPL_subdiv.mat\"),\n",
    "        \"densepose_smpl_subdiv_transform\": maybe_prepend_base_path(\n",
    "            base_path,\n",
    "            \"SMPL_SUBDIV_TRANSFORM.mat\",\n",
    "        ),\n",
    "    }\n",
    "    return meta\n",
    "\n",
    "\n",
    "def _load_coco_annotations(json_file: str):\n",
    "    \"\"\"\n",
    "    Load COCO annotations from a JSON file\n",
    "\n",
    "    Args:\n",
    "        json_file: str\n",
    "            Path to the file to load annotations from\n",
    "    Returns:\n",
    "        Instance of `pycocotools.coco.COCO` that provides access to annotations\n",
    "        data\n",
    "    \"\"\"\n",
    "    from pycocotools.coco import COCO\n",
    "\n",
    "    logger = logging.getLogger(__name__)\n",
    "    timer = Timer()\n",
    "    with contextlib.redirect_stdout(io.StringIO()):\n",
    "        coco_api = COCO(json_file)\n",
    "    if timer.seconds() > 1:\n",
    "        logger.info(\"Loading {} takes {:.2f} seconds.\".format(json_file, timer.seconds()))\n",
    "    return coco_api\n",
    "\n",
    "\n",
    "def _add_categories_metadata(dataset_name: str, categories: List[Dict[str, Any]]):\n",
    "    meta = MetadataCatalog.get(dataset_name)\n",
    "    meta.categories = {c[\"id\"]: c[\"name\"] for c in categories}\n",
    "    logger = logging.getLogger(__name__)\n",
    "    logger.info(\"Dataset {} categories: {}\".format(dataset_name, meta.categories))\n",
    "\n",
    "\n",
    "def _verify_annotations_have_unique_ids(json_file: str, anns: List[List[Dict[str, Any]]]):\n",
    "    if \"minival\" in json_file:\n",
    "        # Skip validation on COCO2014 valminusminival and minival annotations\n",
    "        # The ratio of buggy annotations there is tiny and does not affect accuracy\n",
    "        # Therefore we explicitly white-list them\n",
    "        return\n",
    "    ann_ids = [ann[\"id\"] for anns_per_image in anns for ann in anns_per_image]\n",
    "    assert len(set(ann_ids)) == len(ann_ids), \"Annotation ids in '{}' are not unique!\".format(\n",
    "        json_file\n",
    "    )\n",
    "\n",
    "\n",
    "def _maybe_add_bbox(obj: Dict[str, Any], ann_dict: Dict[str, Any]):\n",
    "    if \"bbox\" not in ann_dict:\n",
    "        return\n",
    "    obj[\"bbox\"] = ann_dict[\"bbox\"]\n",
    "    obj[\"bbox_mode\"] = BoxMode.XYWH_ABS\n",
    "\n",
    "\n",
    "def _maybe_add_segm(obj: Dict[str, Any], ann_dict: Dict[str, Any]):\n",
    "    if \"segmentation\" not in ann_dict:\n",
    "        return\n",
    "    segm = ann_dict[\"segmentation\"]\n",
    "    if not isinstance(segm, dict):\n",
    "        # filter out invalid polygons (< 3 points)\n",
    "        segm = [poly for poly in segm if len(poly) % 2 == 0 and len(poly) >= 6]\n",
    "        if len(segm) == 0:\n",
    "            return\n",
    "    obj[\"segmentation\"] = segm\n",
    "\n",
    "\n",
    "def _maybe_add_keypoints(obj: Dict[str, Any], ann_dict: Dict[str, Any]):\n",
    "    if \"keypoints\" not in ann_dict:\n",
    "        return\n",
    "    keypts = ann_dict[\"keypoints\"]  # list[int]\n",
    "    for idx, v in enumerate(keypts):\n",
    "        if idx % 3 != 2:\n",
    "            # COCO's segmentation coordinates are floating points in [0, H or W],\n",
    "            # but keypoint coordinates are integers in [0, H-1 or W-1]\n",
    "            # Therefore we assume the coordinates are \"pixel indices\" and\n",
    "            # add 0.5 to convert to floating point coordinates.\n",
    "            keypts[idx] = v + 0.5\n",
    "    obj[\"keypoints\"] = keypts\n",
    "\n",
    "\n",
    "def _maybe_add_densepose(obj: Dict[str, Any], ann_dict: Dict[str, Any]):\n",
    "    for key in DENSEPOSE_ALL_POSSIBLE_KEYS:\n",
    "        if key in ann_dict:\n",
    "            obj[key] = ann_dict[key]\n",
    "\n",
    "\n",
    "def _combine_images_with_annotations(\n",
    "    dataset_name: str,\n",
    "    image_root: str,\n",
    "    human_parsing_image_root: str,\n",
    "    human_parsing_image_ext: str,\n",
    "    img_datas: Iterable[Dict[str, Any]],\n",
    "    ann_datas: Iterable[Iterable[Dict[str, Any]]],\n",
    "):\n",
    "\n",
    "    ann_keys = [\"iscrowd\", \"category_id\"]\n",
    "    dataset_dicts = []\n",
    "    contains_video_frame_info = False\n",
    "\n",
    "    for img_dict, ann_dicts in zip(img_datas, ann_datas):\n",
    "        record = {}\n",
    "        record[\"file_name\"] = os.path.join(image_root, img_dict[\"file_name\"])\n",
    "        \n",
    "        sem_seg_file_name = Path(os.path.basename(record[\"file_name\"]))\n",
    "        sem_seg_file_name = str(sem_seg_file_name).replace(sem_seg_file_name.suffix, human_parsing_image_ext)\n",
    "        record[\"sem_seg_file_name\"] = os.path.join(human_parsing_image_root, sem_seg_file_name)\n",
    "        \n",
    "        record[\"height\"] = img_dict[\"height\"]\n",
    "        record[\"width\"] = img_dict[\"width\"]\n",
    "        record[\"image_id\"] = img_dict[\"id\"]\n",
    "        record[\"dataset\"] = dataset_name\n",
    "        \n",
    "        if \"frame_id\" in img_dict:\n",
    "            record[\"frame_id\"] = img_dict[\"frame_id\"]\n",
    "            record[\"video_id\"] = img_dict.get(\"vid_id\", None)\n",
    "            contains_video_frame_info = True\n",
    "        \n",
    "        objs = []\n",
    "        for ann_dict in ann_dicts:\n",
    "            assert ann_dict[\"image_id\"] == record[\"image_id\"]\n",
    "            assert ann_dict.get(\"ignore\", 0) == 0\n",
    "            obj = {key: ann_dict[key] for key in ann_keys if key in ann_dict}\n",
    "            _maybe_add_bbox(obj, ann_dict)\n",
    "            _maybe_add_segm(obj, ann_dict)\n",
    "            _maybe_add_keypoints(obj, ann_dict)\n",
    "            _maybe_add_densepose(obj, ann_dict)\n",
    "            objs.append(obj)\n",
    "        \n",
    "        record[\"annotations\"] = objs\n",
    "        dataset_dicts.append(record)\n",
    "    \n",
    "    if contains_video_frame_info:\n",
    "        create_video_frame_mapping(dataset_name, dataset_dicts)\n",
    "    return dataset_dicts\n",
    "\n",
    "\n",
    "def get_contiguous_id_to_category_id_map(metadata):\n",
    "    cat_id_2_cont_id = metadata.thing_dataset_id_to_contiguous_id\n",
    "    cont_id_2_cat_id = {}\n",
    "    for cat_id, cont_id in cat_id_2_cont_id.items():\n",
    "        if cont_id in cont_id_2_cat_id:\n",
    "            continue\n",
    "        cont_id_2_cat_id[cont_id] = cat_id\n",
    "    return cont_id_2_cat_id\n",
    "\n",
    "\n",
    "def maybe_filter_categories_cocoapi(dataset_name, coco_api):\n",
    "    meta = MetadataCatalog.get(dataset_name)\n",
    "    cont_id_2_cat_id = get_contiguous_id_to_category_id_map(meta)\n",
    "    cat_id_2_cont_id = meta.thing_dataset_id_to_contiguous_id\n",
    "    # filter categories\n",
    "    cats = []\n",
    "    for cat in coco_api.dataset[\"categories\"]:\n",
    "        cat_id = cat[\"id\"]\n",
    "        if cat_id not in cat_id_2_cont_id:\n",
    "            continue\n",
    "        cont_id = cat_id_2_cont_id[cat_id]\n",
    "        if (cont_id in cont_id_2_cat_id) and (cont_id_2_cat_id[cont_id] == cat_id):\n",
    "            cats.append(cat)\n",
    "    coco_api.dataset[\"categories\"] = cats\n",
    "    # filter annotations, if multiple categories are mapped to a single\n",
    "    # contiguous ID, use only one category ID and map all annotations to that category ID\n",
    "    anns = []\n",
    "    for ann in coco_api.dataset[\"annotations\"]:\n",
    "        cat_id = ann[\"category_id\"]\n",
    "        if cat_id not in cat_id_2_cont_id:\n",
    "            continue\n",
    "        cont_id = cat_id_2_cont_id[cat_id]\n",
    "        ann[\"category_id\"] = cont_id_2_cat_id[cont_id]\n",
    "        anns.append(ann)\n",
    "    coco_api.dataset[\"annotations\"] = anns\n",
    "    # recreate index\n",
    "    coco_api.createIndex()\n",
    "\n",
    "\n",
    "def maybe_filter_and_map_categories_cocoapi(dataset_name, coco_api):\n",
    "    meta = MetadataCatalog.get(dataset_name)\n",
    "    category_id_map = meta.thing_dataset_id_to_contiguous_id\n",
    "    # map categories\n",
    "    cats = []\n",
    "    for cat in coco_api.dataset[\"categories\"]:\n",
    "        cat_id = cat[\"id\"]\n",
    "        if cat_id not in category_id_map:\n",
    "            continue\n",
    "        cat[\"id\"] = category_id_map[cat_id]\n",
    "        cats.append(cat)\n",
    "    coco_api.dataset[\"categories\"] = cats\n",
    "    # map annotation categories\n",
    "    anns = []\n",
    "    for ann in coco_api.dataset[\"annotations\"]:\n",
    "        cat_id = ann[\"category_id\"]\n",
    "        if cat_id not in category_id_map:\n",
    "            continue\n",
    "        ann[\"category_id\"] = category_id_map[cat_id]\n",
    "        anns.append(ann)\n",
    "    coco_api.dataset[\"annotations\"] = anns\n",
    "    # recreate index\n",
    "    coco_api.createIndex()\n",
    "\n",
    "\n",
    "def create_video_frame_mapping(dataset_name, dataset_dicts):\n",
    "    mapping = defaultdict(dict)\n",
    "    for d in dataset_dicts:\n",
    "        video_id = d.get(\"video_id\")\n",
    "        if video_id is None:\n",
    "            continue\n",
    "        mapping[video_id].update({d[\"frame_id\"]: d[\"file_name\"]})\n",
    "    MetadataCatalog.get(dataset_name).set(video_frame_mapping=mapping)\n",
    "\n",
    "\n",
    "def load_coco_json(\n",
    "    annotations_json_file: str, \n",
    "    image_root: str, \n",
    "    dataset_name: str, \n",
    "    human_parsing_image_root: str,\n",
    "    human_parse_image_suffix: str,\n",
    "):\n",
    "    \"\"\"\n",
    "    Loads a JSON file with annotations in COCO instances format.\n",
    "    Replaces `detectron2.data.datasets.coco.load_coco_json` to handle metadata\n",
    "    in a more flexible way. Postpones category mapping to a later stage to be\n",
    "    able to combine several datasets with different (but coherent) sets of\n",
    "    categories.\n",
    "\n",
    "    Args:\n",
    "\n",
    "    annotations_json_file: str\n",
    "        Path to the JSON file with annotations in COCO instances format.\n",
    "    image_root: str\n",
    "        directory that contains all the images\n",
    "    dataset_name: str\n",
    "        the name that identifies a dataset, e.g. \"densepose_coco_2014_train\"\n",
    "    extra_annotation_keys: Optional[List[str]]\n",
    "        If provided, these keys are used to extract additional data from\n",
    "        the annotations.\n",
    "    \"\"\"\n",
    "    coco_api = _load_coco_annotations(PathManager.get_local_path(annotations_json_file))\n",
    "    _add_categories_metadata(dataset_name, coco_api.loadCats(coco_api.getCatIds()))\n",
    "    # sort indices for reproducible results\n",
    "    img_ids = sorted(coco_api.imgs.keys())\n",
    "    # imgs is a list of dicts, each looks something like:\n",
    "                # {'license': 4,\n",
    "                #  'url': 'http://farm6.staticflickr.com/5454/9413846304_881d5e5c3b_z.jpg',\n",
    "                #  'file_name': 'COCO_val2014_000000001268.jpg',\n",
    "                #  'height': 427,\n",
    "                #  'width': 640,\n",
    "                #  'date_captured': '2013-11-17 05:57:24',\n",
    "                #  'id': 1268}\n",
    "    imgs = coco_api.loadImgs(img_ids)\n",
    "    logger = logging.getLogger(__name__)\n",
    "    logger.info(\"Loaded {} images in COCO format from {}\".format(len(imgs), annotations_json_file))\n",
    "    # anns is a list[list[dict]], where each dict is an annotation\n",
    "    # record for an object. The inner list enumerates the objects in an image\n",
    "    # and the outer list enumerates over images.\n",
    "    anns = [coco_api.imgToAnns[img_id] for img_id in img_ids]\n",
    "    _verify_annotations_have_unique_ids(annotations_json_file, anns)\n",
    "    dataset_records = _combine_images_with_annotations(dataset_name, image_root, human_parsing_image_root, human_parse_image_suffix, imgs, anns)\n",
    "    return dataset_records"
   ]
  },
  {
   "cell_type": "code",
   "execution_count": 51,
   "id": "f7251f96",
   "metadata": {},
   "outputs": [],
   "source": [
    "import uuid"
   ]
  },
  {
   "cell_type": "code",
   "execution_count": 52,
   "id": "e5aa2e0f",
   "metadata": {},
   "outputs": [],
   "source": [
    "@dataclass\n",
    "class MyDatasetInfo:\n",
    "    name: str\n",
    "    images_root: str\n",
    "    annotations_fpath: str\n",
    "    human_parse_annotations_fpath: str\n",
    "    human_parse_image_suffix: str"
   ]
  },
  {
   "cell_type": "code",
   "execution_count": 53,
   "id": "31d8d6f8",
   "metadata": {},
   "outputs": [],
   "source": [
    "info = MyDatasetInfo(\n",
    "    name=\"densepose_coco_2014_train_cse\",\n",
    "    images_root=\"coco/train2014\",\n",
    "    annotations_fpath=\"coco/annotations/densepose_train2014_cse.json\",\n",
    "    human_parse_annotations_fpath=\"coco/annotations/human_parsing\",\n",
    "    human_parse_image_suffix=\".png\",\n",
    ")"
   ]
  },
  {
   "cell_type": "code",
   "execution_count": 54,
   "id": "b6256906",
   "metadata": {},
   "outputs": [],
   "source": [
    "annotations_fpath = maybe_prepend_base_path(\"/mnt/data/repos/dashtoon-research/ClothesPreprocessor/data\", info.annotations_fpath)\n",
    "images_root = maybe_prepend_base_path(\"/mnt/data/repos/dashtoon-research/ClothesPreprocessor/data\", info.images_root)\n",
    "human_parse_annotations_fpath = maybe_prepend_base_path(\"/mnt/data/repos/dashtoon-research/ClothesPreprocessor/data\", info.human_parse_annotations_fpath)\n",
    "\n",
    "load_annotations = lambda: load_coco_json(\n",
    "    annotations_json_file=annotations_fpath,\n",
    "    human_parsing_image_root=human_parse_annotations_fpath,\n",
    "    human_parse_image_suffix=info.human_parse_image_suffix,\n",
    "    image_root=images_root, \n",
    "    dataset_name=info.name)"
   ]
  },
  {
   "cell_type": "code",
   "execution_count": 55,
   "id": "bda00359",
   "metadata": {},
   "outputs": [],
   "source": [
    "ds_name = info.name + \"_\" + str(uuid.uuid4())\n",
    "DatasetCatalog.register(ds_name, load_annotations)"
   ]
  },
  {
   "cell_type": "code",
   "execution_count": 56,
   "id": "050b07da",
   "metadata": {},
   "outputs": [],
   "source": [
    "dataset_dicts = DatasetCatalog.get(ds_name)"
   ]
  },
  {
   "cell_type": "code",
   "execution_count": 58,
   "id": "fb70853f",
   "metadata": {},
   "outputs": [
    {
     "data": {
      "text/plain": [
       "dict_keys(['file_name', 'sem_seg_file_name', 'height', 'width', 'image_id', 'dataset', 'annotations'])"
      ]
     },
     "execution_count": 58,
     "metadata": {},
     "output_type": "execute_result"
    }
   ],
   "source": [
    "dataset_dicts[0].keys()"
   ]
  },
  {
   "cell_type": "code",
   "execution_count": 59,
   "id": "049ce349",
   "metadata": {},
   "outputs": [
    {
     "data": {
      "text/plain": [
       "'/mnt/data/repos/dashtoon-research/ClothesPreprocessor/data/coco/annotations/human_parsing/COCO_train2014_000000000036.png'"
      ]
     },
     "execution_count": 59,
     "metadata": {},
     "output_type": "execute_result"
    }
   ],
   "source": [
    "dataset_dicts[0]['sem_seg_file_name']"
   ]
  },
  {
   "cell_type": "code",
   "execution_count": 70,
   "id": "29f8e8d8",
   "metadata": {},
   "outputs": [
    {
     "data": {
      "text/plain": [
       "10"
      ]
     },
     "execution_count": 70,
     "metadata": {},
     "output_type": "execute_result"
    }
   ],
   "source": [
    "len(dataset_dicts[3]['annotations'])"
   ]
  },
  {
   "cell_type": "code",
   "execution_count": 96,
   "id": "81a2af6b",
   "metadata": {},
   "outputs": [],
   "source": [
    "from detectron2.data import detection_utils as utils\n",
    "import matplotlib.pyplot as plt"
   ]
  },
  {
   "cell_type": "code",
   "execution_count": 103,
   "id": "de8e4633",
   "metadata": {},
   "outputs": [],
   "source": [
    "img = utils.read_image(dataset_dicts[800][\"sem_seg_file_name\"], \"L\").squeeze(2)"
   ]
  },
  {
   "cell_type": "code",
   "execution_count": 104,
   "id": "3deb7b1b",
   "metadata": {},
   "outputs": [
    {
     "data": {
      "text/plain": [
       "<matplotlib.image.AxesImage at 0x7f45f679be80>"
      ]
     },
     "execution_count": 104,
     "metadata": {},
     "output_type": "execute_result"
    },
    {
     "data": {
      "image/png": "[encoded data removed]",
      "text/plain": [
       "<Figure size 640x480 with 1 Axes>"
      ]
     },
     "metadata": {},
     "output_type": "display_data"
    }
   ],
   "source": [
    "plt.imshow(img)"
   ]
  },
  {
   "cell_type": "code",
   "execution_count": null,
   "id": "80958114",
   "metadata": {},
   "outputs": [],
   "source": []
  },
  {
   "cell_type": "code",
   "execution_count": 105,
   "id": "708e5a98",
   "metadata": {},
   "outputs": [],
   "source": [
    "# dataset_dicts[0].keys()"
   ]
  },
  {
   "cell_type": "code",
   "execution_count": 106,
   "id": "fcbfe7a7",
   "metadata": {},
   "outputs": [],
   "source": [
    "# dataset_dicts[0]['file_name']"
   ]
  },
  {
   "cell_type": "code",
   "execution_count": 75,
   "id": "2d182337",
   "metadata": {},
   "outputs": [],
   "source": [
    "# os.path.basename(dataset_dicts[0]['file_name'])"
   ]
  },
  {
   "cell_type": "code",
   "execution_count": 76,
   "id": "3b26dcf4-7a82-4e19-a805-01d77732c98e",
   "metadata": {},
   "outputs": [],
   "source": [
    "# register_coco_instances(\"my_dataset_train\", \n",
    "#                         {}, \n",
    "#                         \"/mnt/data1/ayushman/datasets/coco_dataset/annotations/densepose_train2014_cse.json\", \n",
    "#                         \"/mnt/data1/ayushman/datasets/coco_dataset/train2014/\")"
   ]
  },
  {
   "cell_type": "code",
   "execution_count": 74,
   "id": "bfb86fdb-54f4-44d1-8288-6f99249a25bc",
   "metadata": {},
   "outputs": [],
   "source": [
    "# metadata = MetadataCatalog.get(\"my_dataset_train\")\n",
    "# dataset_dicts = DatasetCatalog.get(\"my_dataset_train\")"
   ]
  },
  {
   "cell_type": "code",
   "execution_count": 73,
   "id": "7aac1d36-4296-4d0b-b08f-508a2b9e1c0f",
   "metadata": {},
   "outputs": [],
   "source": [
    "# for d in random.sample(dataset_dicts, 3):\n",
    "#     img = cv2.imread(d[\"file_name\"])\n",
    "#     visualizer = Visualizer(img[:, :, ::-1], metadata=metadata, scale=0.5)\n",
    "#     out = visualizer.draw_dataset_dict(d)\n",
    "#     plt.imshow(out.get_image())\n",
    "#     plt.show()"
   ]
  },
  {
   "cell_type": "code",
   "execution_count": 77,
   "id": "8966df06-5574-4369-878d-fc71c552112e",
   "metadata": {},
   "outputs": [],
   "source": [
    "# import shutil"
   ]
  },
  {
   "cell_type": "code",
   "execution_count": 79,
   "id": "7bd6e65b-6c08-4a5f-9bbb-1280d1463956",
   "metadata": {},
   "outputs": [],
   "source": [
    "# for d in tqdm(dataset_dicts, dynamic_ncols=True):\n",
    "#     fp = d['file_name']\n",
    "#     shutil.copyfile(fp, os.path.join(\"/mnt/data1/ayushman/datasets/coco_dataset/human\",os.path.basename(fp)))"
   ]
  },
  {
   "cell_type": "code",
   "execution_count": 80,
   "id": "a5bea01c-0737-466b-b201-b9a8551d7be7",
   "metadata": {},
   "outputs": [],
   "source": [
    "# from PIL import Image"
   ]
  },
  {
   "cell_type": "code",
   "execution_count": 81,
   "id": "451d688a-f7fe-451c-ada1-8a777af6a573",
   "metadata": {},
   "outputs": [],
   "source": [
    "# image = Image.open('/mnt/data1/ayushman/projects/clothes_preprocessor/data/coco_dataset/annotations/human_parsing/COCO_train2014_000000000036.png')"
   ]
  },
  {
   "cell_type": "code",
   "execution_count": 82,
   "id": "27f0c096",
   "metadata": {},
   "outputs": [],
   "source": [
    "# image"
   ]
  },
  {
   "cell_type": "code",
   "execution_count": 83,
   "id": "64c0ffc5",
   "metadata": {},
   "outputs": [],
   "source": [
    "# import numpy as np"
   ]
  },
  {
   "cell_type": "code",
   "execution_count": 84,
   "id": "34be58d6",
   "metadata": {},
   "outputs": [],
   "source": [
    "# np.unique(np.asanyarray(image))"
   ]
  },
  {
   "cell_type": "code",
   "execution_count": null,
   "id": "6fd4b253",
   "metadata": {},
   "outputs": [],
   "source": []
  }
 ],
 "metadata": {
  "kernelspec": {
   "display_name": "Python 3 (ipykernel)",
   "language": "python",
   "name": "python3"
  },
  "language_info": {
   "codemirror_mode": {
    "name": "ipython",
    "version": 3
   },
   "file_extension": ".py",
   "mimetype": "text/x-python",
   "name": "python",
   "nbconvert_exporter": "python",
   "pygments_lexer": "ipython3",
   "version": "3.8.18"
  }
 },
 "nbformat": 4,
 "nbformat_minor": 5
}
